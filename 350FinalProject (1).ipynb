{
 "cells": [
  {
   "cell_type": "code",
   "execution_count": 288,
   "id": "08298a84-16da-427b-8f45-0a0c02236695",
   "metadata": {},
   "outputs": [],
   "source": [
    "import numpy as np\n",
    "import matplotlib.pyplot as plt\n",
    "from scipy.integrate import odeint\n",
    "import sympy as smp\n",
    "from matplotlib import animation\n",
    "from matplotlib.animation import PillowWriter"
   ]
  },
  {
   "cell_type": "code",
   "execution_count": 289,
   "id": "f17dfd84-792a-4860-ad8e-9a6c2c018d30",
   "metadata": {},
   "outputs": [],
   "source": [
    "t, g, l1, l2,l3,l4, m1, m2, mb, hp = smp.symbols('t g l_1 l_2 l_3 l_4 m_1 m_2 m_b h_p')\n",
    "theta, phi, psi = smp.symbols(r'\\theta \\phi \\psi', cls=smp.Function)"
   ]
  },
  {
   "cell_type": "code",
   "execution_count": 276,
   "id": "acf19304-7402-46b0-8905-d1bf650fbbae",
   "metadata": {},
   "outputs": [],
   "source": [
    "theta = theta(t)\n",
    "phi = phi(t)\n",
    "psi = psi(t)\n",
    "theta_d = smp.diff(theta, t)\n",
    "theta_dd = smp.diff(theta_d, t)\n",
    "phi_d = smp.diff(phi, t)\n",
    "phi_dd = smp.diff(phi_d, t)\n",
    "psi_d = smp.diff(psi, t)\n",
    "psi_dd = smp.diff(psi_d, t)"
   ]
  },
  {
   "cell_type": "code",
   "execution_count": 277,
   "id": "e7907b4a-1455-4bc5-884a-28f1012b15d5",
   "metadata": {},
   "outputs": [],
   "source": [
    "L = smp.Rational(1,2) * m1 * ((l2**2*phi_d**2)+(l3**2*psi_d**2)+2*phi_d*psi_d*l2*l3*smp.sin(psi-phi))\\\n",
    "+ smp.Rational(1,2) * m2 * ((l1**2*phi_d**2)+(l4**2*theta_d**2)+2*phi_d*theta_d*l1*l4*smp.cos(phi+theta))\\\n",
    "+ smp.Rational(1,2)*phi_d**2*mb*(((l1+l2)/2-l2)**2+(l1+l2)**2/12)\\\n",
    "-m1*g*(l2*smp.sin(phi)-l3*smp.cos(psi))-m2*g*(-l1*smp.sin(phi)-l4*smp.sin(theta))+mb*g*(l1/2-l2/2)*smp.sin(phi)"
   ]
  },
  {
   "cell_type": "code",
   "execution_count": 278,
   "id": "d3bc30e1-f3c7-47f8-9998-4b593dbccdcf",
   "metadata": {},
   "outputs": [
    {
     "data": {
      "text/latex": [
       "$\\displaystyle - g m_{1} \\left(l_{2} \\sin{\\left(\\phi{\\left(t \\right)} \\right)} - l_{3} \\cos{\\left(\\psi{\\left(t \\right)} \\right)}\\right) - g m_{2} \\left(- l_{1} \\sin{\\left(\\phi{\\left(t \\right)} \\right)} - l_{4} \\sin{\\left(\\theta{\\left(t \\right)} \\right)}\\right) + g m_{b} \\left(\\frac{l_{1}}{2} - \\frac{l_{2}}{2}\\right) \\sin{\\left(\\phi{\\left(t \\right)} \\right)} + \\frac{m_{1} \\left(l_{2}^{2} \\left(\\frac{d}{d t} \\phi{\\left(t \\right)}\\right)^{2} - 2 l_{2} l_{3} \\sin{\\left(\\phi{\\left(t \\right)} - \\psi{\\left(t \\right)} \\right)} \\frac{d}{d t} \\phi{\\left(t \\right)} \\frac{d}{d t} \\psi{\\left(t \\right)} + l_{3}^{2} \\left(\\frac{d}{d t} \\psi{\\left(t \\right)}\\right)^{2}\\right)}{2} + \\frac{m_{2} \\left(l_{1}^{2} \\left(\\frac{d}{d t} \\phi{\\left(t \\right)}\\right)^{2} + 2 l_{1} l_{4} \\cos{\\left(\\phi{\\left(t \\right)} + \\theta{\\left(t \\right)} \\right)} \\frac{d}{d t} \\phi{\\left(t \\right)} \\frac{d}{d t} \\theta{\\left(t \\right)} + l_{4}^{2} \\left(\\frac{d}{d t} \\theta{\\left(t \\right)}\\right)^{2}\\right)}{2} + \\frac{m_{b} \\left(\\left(\\frac{l_{1}}{2} - \\frac{l_{2}}{2}\\right)^{2} + \\frac{\\left(l_{1} + l_{2}\\right)^{2}}{12}\\right) \\left(\\frac{d}{d t} \\phi{\\left(t \\right)}\\right)^{2}}{2}$"
      ],
      "text/plain": [
       "-g*m_1*(l_2*sin(\\phi(t)) - l_3*cos(\\psi(t))) - g*m_2*(-l_1*sin(\\phi(t)) - l_4*sin(\\theta(t))) + g*m_b*(l_1/2 - l_2/2)*sin(\\phi(t)) + m_1*(l_2**2*Derivative(\\phi(t), t)**2 - 2*l_2*l_3*sin(\\phi(t) - \\psi(t))*Derivative(\\phi(t), t)*Derivative(\\psi(t), t) + l_3**2*Derivative(\\psi(t), t)**2)/2 + m_2*(l_1**2*Derivative(\\phi(t), t)**2 + 2*l_1*l_4*cos(\\phi(t) + \\theta(t))*Derivative(\\phi(t), t)*Derivative(\\theta(t), t) + l_4**2*Derivative(\\theta(t), t)**2)/2 + m_b*((l_1/2 - l_2/2)**2 + (l_1 + l_2)**2/12)*Derivative(\\phi(t), t)**2/2"
      ]
     },
     "execution_count": 278,
     "metadata": {},
     "output_type": "execute_result"
    }
   ],
   "source": [
    "L"
   ]
  },
  {
   "cell_type": "markdown",
   "id": "d2cf9c87-f8b1-4954-8010-ba41bfdac1b2",
   "metadata": {},
   "source": [
    "Euler Lagrange Equations"
   ]
  },
  {
   "cell_type": "code",
   "execution_count": 279,
   "id": "89ed0ccf-c068-44c6-a731-a3765b6f0ff3",
   "metadata": {},
   "outputs": [],
   "source": [
    "LE1 = smp.diff(L, theta) - smp.diff(smp.diff(L, theta_d), t).simplify()\n",
    "LE2 = smp.diff(L, phi) - smp.diff(smp.diff(L, phi_d), t).simplify()\n",
    "LE3 = smp.diff(L, psi) - smp.diff(smp.diff(L, psi_d), t).simplify()"
   ]
  },
  {
   "cell_type": "code",
   "execution_count": 280,
   "id": "f68a56ea-9750-4648-8737-7373eb40e02e",
   "metadata": {},
   "outputs": [],
   "source": [
    "sols = smp.solve([LE1, LE2, LE3], (theta_dd, phi_dd, psi_dd),\n",
    "                simplify=False, rational=False)"
   ]
  },
  {
   "cell_type": "code",
   "execution_count": 281,
   "id": "0c38235e-82c9-4d6c-8cc2-769cbf513e48",
   "metadata": {},
   "outputs": [],
   "source": [
    "dz1dt_f = smp.lambdify((t, g, l1, l2,l3,l4, m1, m2, mb, hp, theta, phi, psi, theta_d, phi_d, psi_d), sols[theta_dd])\n",
    "dz2dt_f = smp.lambdify((t, g, l1, l2,l3,l4, m1, m2, mb, hp, theta, phi, psi, theta_d, phi_d, psi_d), sols[phi_dd])\n",
    "dz3dt_f = smp.lambdify((t, g, l1, l2,l3,l4, m1, m2, mb, hp, theta, phi, psi, theta_d, phi_d, psi_d), sols[psi_dd])\n",
    "dthetadt_f = smp.lambdify(theta_d, theta_d)\n",
    "dphidt_f = smp.lambdify(phi_d, phi_d)\n",
    "dpsidt_f = smp.lambdify(psi_d, psi_d)"
   ]
  },
  {
   "cell_type": "code",
   "execution_count": 282,
   "id": "94e012c4-3509-4b26-a60a-5b7c5615f022",
   "metadata": {},
   "outputs": [],
   "source": [
    "def dSdt(S, t, g, l1, l2,l3,l4, m1, m2, mb, hp):\n",
    "    theta, z1, phi, z2, psi, z3 = S\n",
    "    return [\n",
    "        dthetadt_f(z1),\n",
    "        dz1dt_f(t, g, l1, l2,l3,l4, m1, m2, mb, hp, theta, phi, psi, z1,z2,z3),\n",
    "        dphidt_f(z2),\n",
    "        dz2dt_f(t, g, l1, l2,l3,l4, m1, m2, mb, hp, theta, phi, psi, z1,z2,z3),\n",
    "        dpsidt_f(z3),\n",
    "        dz3dt_f(t, g, l1, l2,l3,l4, m1, m2, mb, hp, theta, phi, psi, z1,z2,z3),\n",
    "    ]"
   ]
  },
  {
   "cell_type": "code",
   "execution_count": 283,
   "id": "d3cb9499-29f7-498f-8312-8149ed1e72bc",
   "metadata": {},
   "outputs": [],
   "source": [
    "t = np.linspace(0, 5, 1001) # s\n",
    "#should it be -9.81\n",
    "g = 9.81 #m/s^2\n",
    "m1= 5000 # kg\n",
    "m2= 3 # kg\n",
    "mb= 500 # kg\n",
    "l1 = 50 # m\n",
    "l2 = 5 # m\n",
    "l3 = 2 # m\n",
    "l4 = 2 # m\n",
    "hp = 100 # m\n",
    "#y0 = [theta0, theta0dot, phi0, phi0dot, psi0, pdi0dot]\n",
    "#why are his 1's and -1's\n",
    "ans = odeint(dSdt, y0=[0, 0, np.pi/4 , 0, 0,0], t=t, args=( g, l1, l2,l3,l4, m1, m2, mb, hp))"
   ]
  },
  {
   "cell_type": "code",
   "execution_count": 284,
   "id": "630fb687-2fed-4550-a21e-34662f8fce09",
   "metadata": {},
   "outputs": [],
   "source": [
    "#here 0 is theta, 2 is phi,4 is psi\n",
    "theta = ans.T[0]\n",
    "phi = ans.T[2]\n",
    "psi = ans.T[4]\n",
    "theta_dot = ans.T[1]\n",
    "phi_dot = ans.T[3]"
   ]
  },
  {
   "cell_type": "code",
   "execution_count": 285,
   "id": "89137089-1b95-46a2-bc81-4272fe666a17",
   "metadata": {},
   "outputs": [
    {
     "data": {
      "text/plain": [
       "Text(0, 0.5, 'Angle (radians)')"
      ]
     },
     "execution_count": 285,
     "metadata": {},
     "output_type": "execute_result"
    },
    {
     "data": {
      "image/png": "[encoded data removed]",
      "text/plain": [
       "<Figure size 432x288 with 1 Axes>"
      ]
     },
     "metadata": {
      "needs_background": "light"
     },
     "output_type": "display_data"
    }
   ],
   "source": [
    "plt.plot(t, theta, \"-b\", label = \"theta\")\n",
    "plt.plot(t, phi, \"-g\", label = \"phi\")\n",
    "plt.plot(t, psi, \"-r\", label = \"psi\")\n",
    "plt.legend(loc=\"upper left\")\n",
    "plt.xlabel('Time (seconds)')\n",
    "plt.ylabel('Angle (radians)')"
   ]
  },
  {
   "cell_type": "markdown",
   "id": "fa8e394f-c921-42c9-a48d-8e32c680b6d9",
   "metadata": {},
   "source": [
    "Note trebuchet only fires once so should only look at a time period within first cycle. Want the maximum speed , so need to look at theta_dot, then will see if predicted values of theta, phi, and psi at this point are correct. Then will compare energies."
   ]
  },
  {
   "cell_type": "code",
   "execution_count": 286,
   "id": "5d15af08-911a-43b7-9fa3-456b66a96914",
   "metadata": {},
   "outputs": [
    {
     "data": {
      "text/plain": [
       "Text([4.315], 9.840110239803884, 'local max')"
      ]
     },
     "execution_count": 286,
     "metadata": {},
     "output_type": "execute_result"
    },
    {
     "data": {
      "image/png": "[encoded data removed]",
      "text/plain": [
       "<Figure size 432x288 with 1 Axes>"
      ]
     },
     "metadata": {
      "needs_background": "light"
     },
     "output_type": "display_data"
    }
   ],
   "source": [
    "fig = plt.figure()\n",
    "ax = fig.add_subplot(111)\n",
    "\n",
    "plt.plot(t, (theta_dot), \"-b\", label = \"theta_dot\")\n",
    "#plt.plot(t, abs(phi_dot), \"-g\", label = \"phi_dot\")\n",
    "plt.legend(loc=\"upper left\")\n",
    "plt.xlabel('Time (seconds)')\n",
    "plt.ylabel('Speed (rad/s)')\n",
    "plt.title('Speed of Theta Which Can be Used to Find Projectile Speed')\n",
    "\n",
    "ymax = max(theta_dot)\n",
    "xpos = np.where(theta_dot==ymax)\n",
    "xmax = t[xpos]\n",
    "\n",
    "ax.annotate('local max', xy=(xmax, ymax), xytext=(xmax, ymax+5),\n",
    "            arrowprops=dict(facecolor='black', shrink=0.05),\n",
    "            )"
   ]
  },
  {
   "cell_type": "code",
   "execution_count": 287,
   "id": "6711511c-f855-4372-a7cb-e570cac04375",
   "metadata": {},
   "outputs": [
    {
     "name": "stdout",
     "output_type": "stream",
     "text": [
      "Max theta speed = 4.8401102398038836 rad/s\n",
      "Max absolute phi speed = [0.84939894]rad/s\n",
      "Max speed time = [4.315] seconds\n",
      "value of theta at this time = [4.05060856] rad\n",
      "value of phi at this time = [-1.16719133] rad\n",
      "value of psi at this time = [0.19878053] rad\n",
      "Max speed of projectile v= Ω*r , vtot = max theta speed * 2m + max phi speed * 50m, = [52.15016724] m/s\n"
     ]
    }
   ],
   "source": [
    "print(\"Max theta speed = \" + str(ymax) + \" rad/s\")\n",
    "print(\"Max absolute phi speed = \" + str(abs(phi_dot[xpos])) + \"rad/s\")\n",
    "print(\"Max speed time = \" + str(xmax) + \" seconds\")\n",
    "print(\"value of theta at this time = \" + str(theta[xpos]) + \" rad\")\n",
    "print(\"value of phi at this time = \" + str(phi[xpos]) + \" rad\")\n",
    "print(\"value of psi at this time = \" + str(psi[xpos]) + \" rad\")\n",
    "print(\"Max speed of projectile v= Ω*r , vtot = max theta speed * 2m + max phi speed * 50m, = \" + str(ymax*2+abs(phi_dot[xpos])*50) + \" m/s\" )"
   ]
  },
  {
   "cell_type": "code",
   "execution_count": null,
   "id": "f58aef51-ec2f-4b48-a2f5-ee2621abca91",
   "metadata": {},
   "outputs": [],
   "source": []
  },
  {
   "cell_type": "code",
   "execution_count": null,
   "id": "ec8c3045-a1e3-44ab-81ed-41da35d012d8",
   "metadata": {},
   "outputs": [],
   "source": []
  }
 ],
 "metadata": {
  "kernelspec": {
   "display_name": "Python 3 (ipykernel)",
   "language": "python",
   "name": "python3"
  },
  "language_info": {
   "codemirror_mode": {
    "name": "ipython",
    "version": 3
   },
   "file_extension": ".py",
   "mimetype": "text/x-python",
   "name": "python",
   "nbconvert_exporter": "python",
   "pygments_lexer": "ipython3",
   "version": "3.9.7"
  }
 },
 "nbformat": 4,
 "nbformat_minor": 5
}
